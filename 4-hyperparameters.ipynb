{
 "metadata": {
  "language_info": {
   "codemirror_mode": {
    "name": "ipython",
    "version": 3
   },
   "file_extension": ".py",
   "mimetype": "text/x-python",
   "name": "python",
   "nbconvert_exporter": "python",
   "pygments_lexer": "ipython3",
   "version": "3.6.9-final"
  },
  "orig_nbformat": 2,
  "kernelspec": {
   "name": "python36964bit2a6a58af0db14c97b8475f3324a1637a",
   "display_name": "Python 3.6.9 64-bit"
  }
 },
 "nbformat": 4,
 "nbformat_minor": 2,
 "cells": [
  {
   "cell_type": "code",
   "execution_count": 15,
   "metadata": {},
   "outputs": [],
   "source": [
    "#Now, on to our hyperparameters.  You'll recall from lecture that \n",
    "#hyperparameters are parameters we must set - i.e., they are not fit by the model.\n",
    "#\"k\" is one such hyperparameter - in the knn code we wrote in part 3 of this assignment, \n",
    "#we arbitrarily have it set to 5.  What we need is to find out the best parameter.\n",
    "\n",
    "#Imports:\n",
    "import numpy as np\n",
    "from IPython.display import clear_output\n",
    "import pickle\n",
    "import matplotlib.pyplot as plt\n",
    "\n",
    "#Classifier (copied from part 3):\n",
    "class KNearestNeighbor:\n",
    "    def __init__(self):\n",
    "        pass\n",
    "    def train(self, X, y):\n",
    "        self.Xtr = X\n",
    "        self.ytr = y\n",
    "    def predict(self, X, k):        \n",
    "        Ypred = np.zeros(len(X), dtype=np.dtype(self.ytr.dtype))\n",
    "        for i in range(0, len(X)):\n",
    "            l1Distances = np.sum(np.abs(self.Xtr - X[i]), axis=1)\n",
    "            minimumIndices = np.argsort(l1Distances)\n",
    "            kClosest = minimumIndices[:k]\n",
    "            predClass, counts = np.unique(self.ytr[kClosest], return_counts=True)\n",
    "            Ypred[i] = predClass[counts.argmax()]\n",
    "            clear_output(wait=True)\n",
    "            print(str(i) + \" (\" + str((i/len(X))*100) + \"%)\")\n",
    "        return Ypred\n",
    "\n",
    "#Load in our data / vectorize the Xs for computation speed\n",
    "with open(\"testTrainLab1.pickle\", \"rb\") as f:\n",
    "    labData = pickle.load(f)\n",
    "X_train = np.reshape(labData[\"X_train\"], (labData[\"X_train\"].shape[0], -1))\n",
    "X_test = np.reshape(labData[\"X_test\"], (labData[\"X_test\"].shape[0], -1))\n",
    "y_train = labData[\"y_train\"]\n",
    "y_test = labData[\"y_test\"]\n",
    "\n",
    "#Cutting down the sample for speed - as noted\n",
    "#a few times now, KNN is very slow!\n",
    "y_test = y_test[:250]\n",
    "X_test = X_test[:250]\n",
    "y_train = y_train[:250]\n",
    "X_train = X_train[:250]"
   ]
  },
  {
   "cell_type": "code",
   "execution_count": 17,
   "metadata": {},
   "outputs": [
    {
     "output_type": "stream",
     "name": "stdout",
     "text": [
      "61 (98.38709677419355%)\n[0.2222222222222222, 0.23809523809523808, 0.1774193548387097, 0.12903225806451613]\n0.19169226830517153\n"
     ]
    }
   ],
   "source": [
    "#The first step is to break our training data into some number of folds.\n",
    "#As you'll recall from lecture, we'll use some of these folds for\n",
    "#training, and some for validation.\n",
    "\n",
    "folds = 4\n",
    "\n",
    "X_folds = np.array_split(X_train, folds)\n",
    "y_folds = np.array_split(y_train, folds)\n",
    "\n",
    "#Now, we need to loop over our folds to get a cross-fold accuracy. \n",
    "#We can do that for just k=5 fairly simply:\n",
    "accuracies = []\n",
    "k = 5\n",
    "\n",
    "for i in range(0,folds): \n",
    "    #Printing where we are for awareness\n",
    "    print(\"Commencing fold \" + str(i+1) + \" for k = \" + str(k))\n",
    "\n",
    "    classifier = KNearestNeighbor()\n",
    "    #The delete function lets us take all BUT one fold and use it for training.\n",
    "    #We then concatenate the remaining folds into one list to use for training. \n",
    "    #You may want to print one of the np.delete's out to see what it does!\n",
    "    classifier.train(np.concatenate(np.delete(X_folds, [i], axis=0)), \n",
    "                     np.concatenate(np.delete(y_folds, [i], axis=0)))\n",
    "\n",
    "    #Now, we're going to generate predictions for only the one fold we didn't use in training\n",
    "    #Then save the accuracy for this fold.\n",
    "    predictions = classifier.predict(X_folds[i], k=k)\n",
    "    correctCases = sum(predictions == y_folds[i])\n",
    "    accuracy = correctCases / len(y_folds[i])\n",
    "    accuracies.append(accuracy)\n",
    "\n",
    "#From this, we can gather that our accuracy for this case is between\n",
    "#~12.9% and 23.8% across folds,\n",
    "print(accuracies)\n",
    "\n",
    "#Or an average of ~19.2%\n",
    "print(np.mean(accuracies))\n",
    "\n",
    "\n"
   ]
  },
  {
   "cell_type": "code",
   "execution_count": 18,
   "metadata": {},
   "outputs": [
    {
     "output_type": "stream",
     "name": "stdout",
     "text": [
      "61 (98.38709677419355%)\nk = 1, fold = 1, accuracy = 0.222222\nk = 1, fold = 2, accuracy = 0.269841\nk = 1, fold = 3, accuracy = 0.161290\nk = 1, fold = 4, accuracy = 0.209677\nk = 5, fold = 1, accuracy = 0.222222\nk = 5, fold = 2, accuracy = 0.238095\nk = 5, fold = 3, accuracy = 0.177419\nk = 5, fold = 4, accuracy = 0.129032\nk = 10, fold = 1, accuracy = 0.174603\nk = 10, fold = 2, accuracy = 0.222222\nk = 10, fold = 3, accuracy = 0.193548\nk = 10, fold = 4, accuracy = 0.129032\nk = 20, fold = 1, accuracy = 0.190476\nk = 20, fold = 2, accuracy = 0.206349\nk = 20, fold = 3, accuracy = 0.177419\nk = 20, fold = 4, accuracy = 0.145161\nk = 40, fold = 1, accuracy = 0.206349\nk = 40, fold = 2, accuracy = 0.190476\nk = 40, fold = 3, accuracy = 0.161290\nk = 40, fold = 4, accuracy = 0.161290\n"
     ]
    }
   ],
   "source": [
    "#Of course, the above is only checking one value of k - we're trying\n",
    "#to find the best value for the hyperparameter!\n",
    "#Here, we implement a loop testing 5 different ks:\n",
    "\n",
    "k_to_test = [1, 5, 10, 20, 40]\n",
    "\n",
    "allAccuracies = {}\n",
    "\n",
    "for k in k_to_test:\n",
    "    allAccuracies[k] = []\n",
    "    for i in range(0,folds): \n",
    "        print(\"Commencing fold \" + str(i+1) + \" for k = \" + str(k))\n",
    "\n",
    "        classifier = KNearestNeighbor()\n",
    "        classifier.train(np.concatenate(np.delete(X_folds, [i], axis=0)), \n",
    "                        np.concatenate(np.delete(y_folds, [i], axis=0)))\n",
    "        predictions = classifier.predict(X_folds[i], k=k)\n",
    "\n",
    "        correctCases = sum(predictions == y_folds[i])\n",
    "        accuracy = correctCases / len(y_folds[i])\n",
    "        allAccuracies[k].append(accuracy)\n",
    "\n",
    "\n",
    "#Print it out in a pretty way:\n",
    "for k in sorted(allAccuracies):\n",
    "    fold = 1\n",
    "    for accuracy in allAccuracies[k]:\n",
    "        print('k = %d, fold = %d, accuracy = %f' % (k, fold, accuracy))\n",
    "        fold = fold + 1"
   ]
  },
  {
   "cell_type": "code",
   "execution_count": 19,
   "metadata": {},
   "outputs": [
    {
     "output_type": "display_data",
     "data": {
      "text/plain": "<Figure size 432x288 with 1 Axes>",
      "image/png": "[encoded data removed]"
     },
     "metadata": {
      "needs_background": "light"
     }
    }
   ],
   "source": [
    "#Now, we want to visualize our findings - this type of visualization should be helpful in identifying\n",
    "#the best K for your purposes.  Feel free to test different sample sizes (i.e., taking 1000 observations, or even all 50k!),\n",
    "#numbers of folds, and values for k. What is the best K across your tests?\n",
    "for k in k_to_test:\n",
    "    accuracies = allAccuracies[k]\n",
    "    plt.scatter([k] * len(accuracies), accuracies)\n",
    "\n",
    "# plot the trend line with error bars that correspond to standard deviation\n",
    "accuracies_mean = np.array([np.mean(v) for k,v in sorted(allAccuracies.items())])\n",
    "accuracies_std = np.array([np.std(v) for k,v in sorted(allAccuracies.items())])\n",
    "plt.errorbar(k_to_test, accuracies_mean, yerr=accuracies_std)\n",
    "plt.title('Cross-validation on k')\n",
    "plt.xlabel('k')\n",
    "plt.ylabel('Cross-validation accuracy')\n",
    "plt.show()"
   ]
  }
 ]
}